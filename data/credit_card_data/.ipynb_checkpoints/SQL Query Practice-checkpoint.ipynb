{
 "cells": [
  {
   "cell_type": "markdown",
   "metadata": {},
   "source": [
    "# SQL QueryPractice\n",
    "\n",
    "Data source: https://www.kaggle.com/rikdifos/nba-salary-and-statistics-201617\n",
    "SQL Query types: https://towardsdatascience.com/sql-questions-summary-df90bfe4c9c"
   ]
  },
  {
   "cell_type": "markdown",
   "metadata": {},
   "source": [
    "## The Data\n",
    "\n",
    "To understand what data we are working with, we will connect to a sqlite database, list the table names, list the column names, and preview data for each table."
   ]
  },
  {
   "cell_type": "code",
   "execution_count": 62,
   "metadata": {},
   "outputs": [
    {
     "name": "stdout",
     "output_type": "stream",
     "text": [
      "Tables:\n",
      "  NBA_season1718_salary\n",
      "  Seasons_Stats\n",
      "Columns for NBA_season1718_salary:\n",
      "  ID\n",
      "  Player\n",
      "  Team\n",
      "  Salary\n",
      "Columns for Seasons_Stats:\n",
      "  ID\n",
      "  Year\n",
      "  Player\n",
      "  Position\n",
      "  Age\n",
      "  Team\n",
      "  G\n",
      "  GS\n",
      "  MP\n",
      "  PER\n",
      "  TS%\n",
      "  3PAr\n",
      "  FTr\n",
      "  ORB%\n",
      "  DRB%\n",
      "  TRB%\n",
      "  AST%\n",
      "  STL%\n",
      "  BLK%\n",
      "  TOV%\n",
      "  USG%\n",
      "  blanl\n",
      "  OWS\n",
      "  DWS\n",
      "  WS\n",
      "  WS/48\n",
      "  blank2\n",
      "  OBPM\n",
      "  DBPM\n",
      "  BPM\n",
      "  VORP\n",
      "  FG\n",
      "  FGA\n",
      "  FG%\n",
      "  3P\n",
      "  3PA\n",
      "  3P%\n",
      "  2P\n",
      "  2PA\n",
      "  2P%\n",
      "  eFG%\n",
      "  FT\n",
      "  FTA\n",
      "  FT%\n",
      "  ORB\n",
      "  DRB\n",
      "  TRB\n",
      "  AST\n",
      "  STL\n",
      "  BLK\n",
      "  TOV\n",
      "  PF\n",
      "  PTS\n"
     ]
    }
   ],
   "source": [
    "import sqlite3\n",
    "\n",
    "db = sqlite3.connect('nba_salary.sqlite')\n",
    "cur = db.cursor()\n",
    "\n",
    "newline_tab =  '\\n  '\n",
    "\n",
    "# Print table names\n",
    "result = cur.execute(\"SELECT name FROM sqlite_master WHERE type='table';\").fetchall()\n",
    "table_names = list(zip(*result))[0]\n",
    "print (\"Tables:\", newline_tab.join(table_names), sep = newline_tab)\n",
    "\n",
    "# Print column names\n",
    "for table_name in table_names:\n",
    "    result = cur.execute(\"PRAGMA table_info('%s')\" % table_name).fetchall()\n",
    "    column_names = list(zip(*result))[1]\n",
    "    print (\"Columns for %s:\" % table_name, newline_tab.join(column_names), sep = newline_tab)\n",
    "    \n",
    "cur.close()\n",
    "db.close()"
   ]
  },
  {
   "cell_type": "markdown",
   "metadata": {},
   "source": [
    "## Type 1: Select All\n",
    "\n",
    "These types of queries rely on various types of joins"
   ]
  }
 ],
 "metadata": {
  "kernelspec": {
   "display_name": "pythonProgramming",
   "language": "python",
   "name": "pythonprogramming"
  },
  "language_info": {
   "codemirror_mode": {
    "name": "ipython",
    "version": 3
   },
   "file_extension": ".py",
   "mimetype": "text/x-python",
   "name": "python",
   "nbconvert_exporter": "python",
   "pygments_lexer": "ipython3",
   "version": "3.8.1"
  }
 },
 "nbformat": 4,
 "nbformat_minor": 4
}
