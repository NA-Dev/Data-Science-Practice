{
 "cells": [
  {
   "cell_type": "markdown",
   "metadata": {},
   "source": [
    "# Plot with Matplotlib"
   ]
  },
  {
   "cell_type": "code",
   "execution_count": 10,
   "metadata": {
    "scrolled": false
   },
   "outputs": [],
   "source": [
    "# Load packages\n",
    "import pandas as pd\n",
    "import numpy as np\n",
    "import matplotlib.pyplot as plt\n",
    "\n",
    "# Load data\n",
    "df = pd.read_csv(\"data/insurance.csv\")\n",
    "\n"
   ]
  },
  {
   "cell_type": "code",
   "execution_count": null,
   "metadata": {},
   "outputs": [],
   "source": [
    "# Pairplot\n",
    "g = pd.plotting.scatter_matrix(df, figsize=(10,10), marker = '.', hist_kwds = {'bins': 10}, s = 60, alpha = 0.8)\n",
    "\n",
    "plt.show()"
   ]
  },
  {
   "cell_type": "code",
   "execution_count": null,
   "metadata": {},
   "outputs": [],
   "source": [
    "# Color by column\n",
    "fig, ax = plt.subplots()\n",
    "categories = np.unique(df['smoker'])\n",
    "colors = np.linspace(0, 1, len(categories))\n",
    "colordict = dict(zip(categories, colors))\n",
    "\n",
    "df[\"color\"] = df['smoker'].apply(lambda x: colordict[x])\n",
    "sc = ax.scatter(df['bmi'], df['charges'], c=df.color)\n",
    "\n",
    "\n",
    "plt.title('Insurance Data Visualization')\n",
    "plt.xlabel('BMI')\n",
    "plt.ylabel('Charges')\n",
    "\n",
    "for cat in categories:\n",
    "    df_sub = df[df.smoker == cat]\n",
    "    m, b = np.polyfit(df_sub['bmi'], df_sub['charges'], 1)\n",
    "    plt.plot(df_sub['bmi'], m*df_sub['bmi'] + b, c=sc.to_rgba(colordict[cat]))"
   ]
  },
  {
   "cell_type": "markdown",
   "metadata": {},
   "source": [
    "# Plot with Seaborne\n",
    "\n",
    "Source: https://www.kaggle.com/alexisbcook/scatter-plots\n"
   ]
  },
  {
   "cell_type": "code",
   "execution_count": null,
   "metadata": {},
   "outputs": [],
   "source": [
    "\n",
    "# %% Load packages\n",
    "import seaborn as sns\n",
    "\n",
    "# %% Correlation matrix and histogram for each column\n",
    "sns.pairplot(df)\n"
   ]
  },
  {
   "cell_type": "code",
   "execution_count": null,
   "metadata": {},
   "outputs": [],
   "source": [
    "# %% Color coded with regression\n",
    "sns.lmplot(x=\"bmi\", y=\"charges\", hue=\"smoker\", data=df)"
   ]
  }
 ],
 "metadata": {
  "kernelspec": {
   "display_name": "Python [conda env:pandas]",
   "language": "python",
   "name": "conda-env-pandas-py"
  },
  "language_info": {
   "codemirror_mode": {
    "name": "ipython",
    "version": 3
   },
   "file_extension": ".py",
   "mimetype": "text/x-python",
   "name": "python",
   "nbconvert_exporter": "python",
   "pygments_lexer": "ipython3",
   "version": "3.8.3"
  }
 },
 "nbformat": 4,
 "nbformat_minor": 4
}
