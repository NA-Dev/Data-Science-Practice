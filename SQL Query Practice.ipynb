{
 "cells": [
  {
   "cell_type": "markdown",
   "metadata": {},
   "source": [
    "# SQL Query Practice\n",
    "\n",
    "Data source: https://www.kaggle.com/ananta/credit-card-data"
   ]
  },
  {
   "cell_type": "markdown",
   "metadata": {},
   "source": [
    "## Create and connect to a sqlite  database\n",
    "If we attempt to connect to a database that does not exist, it will be created. Always close your connection when you are finished."
   ]
  },
  {
   "cell_type": "code",
   "execution_count": 1,
   "metadata": {},
   "outputs": [
    {
     "name": "stdout",
     "output_type": "stream",
     "text": [
      "/mnt/c/Users/Nikki/Sites/Data-Science-Practice\n",
      "2.6.0\n"
     ]
    }
   ],
   "source": [
    "import sqlite3\n",
    "from sqlite3 import Error\n",
    "\n",
    "cnx = sqlite3.connect('data/credit_card_data/credit_card_data.sqlite')\n",
    "cur = cnx.cursor()\n",
    "\n",
    "print(sqlite3.version)\n",
    "\n",
    "cur.close()\n",
    "cnx.close()\n"
   ]
  },
  {
   "cell_type": "markdown",
   "metadata": {},
   "source": [
    "## Import tables with pandas\n",
    "Using pandas dataframes prevents us from having to read the csv file and iterate through rows"
   ]
  },
  {
   "cell_type": "code",
   "execution_count": 2,
   "metadata": {},
   "outputs": [
    {
     "name": "stdout",
     "output_type": "stream",
     "text": [
      "<class 'pandas.core.frame.DataFrame'>\n",
      "RangeIndex: 500 entries, 0 to 499\n",
      "Data columns (total 4 columns):\n",
      " #   Column        Non-Null Count  Dtype \n",
      "---  ------        --------------  ----- \n",
      " 0   Card_Number   500 non-null    object\n",
      " 1   Card_Family   500 non-null    object\n",
      " 2   Credit_Limit  500 non-null    int64 \n",
      " 3   Cust_ID       500 non-null    object\n",
      "dtypes: int64(1), object(3)\n",
      "memory usage: 15.8+ KB\n",
      "None\n",
      "\n",
      "\n",
      "<class 'pandas.core.frame.DataFrame'>\n",
      "RangeIndex: 5674 entries, 0 to 5673\n",
      "Data columns (total 4 columns):\n",
      " #   Column                  Non-Null Count  Dtype \n",
      "---  ------                  --------------  ----- \n",
      " 0   Cust_ID                 5674 non-null   object\n",
      " 1   Age                     5674 non-null   int64 \n",
      " 2   Customer_Segment        5674 non-null   object\n",
      " 3   Customer_Vintage_Group  5674 non-null   object\n",
      "dtypes: int64(1), object(3)\n",
      "memory usage: 177.4+ KB\n",
      "None\n",
      "\n",
      "\n",
      "<class 'pandas.core.frame.DataFrame'>\n",
      "RangeIndex: 10000 entries, 0 to 9999\n",
      "Data columns (total 5 columns):\n",
      " #   Column               Non-Null Count  Dtype \n",
      "---  ------               --------------  ----- \n",
      " 0   Transaction_ID       10000 non-null  object\n",
      " 1   Transaction_Date     10000 non-null  object\n",
      " 2   Credit_Card_ID       10000 non-null  object\n",
      " 3   Transaction_Value    10000 non-null  int64 \n",
      " 4   Transaction_Segment  10000 non-null  object\n",
      "dtypes: int64(1), object(4)\n",
      "memory usage: 390.8+ KB\n",
      "None\n",
      "\n",
      "\n",
      "<class 'pandas.core.frame.DataFrame'>\n",
      "RangeIndex: 109 entries, 0 to 108\n",
      "Data columns (total 2 columns):\n",
      " #   Column          Non-Null Count  Dtype \n",
      "---  ------          --------------  ----- \n",
      " 0   Transaction_ID  109 non-null    object\n",
      " 1   Fraud_Flag      109 non-null    int64 \n",
      "dtypes: int64(1), object(1)\n",
      "memory usage: 1.8+ KB\n",
      "None\n"
     ]
    },
    {
     "data": {
      "text/plain": "           Card_Number Card_Family  Credit_Limit  Cust_ID\n0  8638-5407-3631-8196     Premium        530000  CC67088\n1  7106-4239-7093-1515        Gold         18000  CC12076\n2  6492-5655-8241-3530     Premium        596000  CC97173\n3  2868-5606-5152-5706        Gold         27000  CC55858\n4  1438-6906-2509-8219    Platinum        142000  CC90518",
      "text/html": "<div>\n<style scoped>\n    .dataframe tbody tr th:only-of-type {\n        vertical-align: middle;\n    }\n\n    .dataframe tbody tr th {\n        vertical-align: top;\n    }\n\n    .dataframe thead th {\n        text-align: right;\n    }\n</style>\n<table border=\"1\" class=\"dataframe\">\n  <thead>\n    <tr style=\"text-align: right;\">\n      <th></th>\n      <th>Card_Number</th>\n      <th>Card_Family</th>\n      <th>Credit_Limit</th>\n      <th>Cust_ID</th>\n    </tr>\n  </thead>\n  <tbody>\n    <tr>\n      <th>0</th>\n      <td>8638-5407-3631-8196</td>\n      <td>Premium</td>\n      <td>530000</td>\n      <td>CC67088</td>\n    </tr>\n    <tr>\n      <th>1</th>\n      <td>7106-4239-7093-1515</td>\n      <td>Gold</td>\n      <td>18000</td>\n      <td>CC12076</td>\n    </tr>\n    <tr>\n      <th>2</th>\n      <td>6492-5655-8241-3530</td>\n      <td>Premium</td>\n      <td>596000</td>\n      <td>CC97173</td>\n    </tr>\n    <tr>\n      <th>3</th>\n      <td>2868-5606-5152-5706</td>\n      <td>Gold</td>\n      <td>27000</td>\n      <td>CC55858</td>\n    </tr>\n    <tr>\n      <th>4</th>\n      <td>1438-6906-2509-8219</td>\n      <td>Platinum</td>\n      <td>142000</td>\n      <td>CC90518</td>\n    </tr>\n  </tbody>\n</table>\n</div>"
     },
     "metadata": {},
     "output_type": "display_data"
    },
    {
     "data": {
      "text/plain": "   Cust_ID  Age Customer_Segment Customer_Vintage_Group\n0  CC25034   35          Diamond                    VG1\n1  CC59625   22          Diamond                    VG1\n2  CC69314   33          Diamond                    VG1\n3  CC67036   46          Diamond                    VG1\n4  CC25597   44          Diamond                    VG1",
      "text/html": "<div>\n<style scoped>\n    .dataframe tbody tr th:only-of-type {\n        vertical-align: middle;\n    }\n\n    .dataframe tbody tr th {\n        vertical-align: top;\n    }\n\n    .dataframe thead th {\n        text-align: right;\n    }\n</style>\n<table border=\"1\" class=\"dataframe\">\n  <thead>\n    <tr style=\"text-align: right;\">\n      <th></th>\n      <th>Cust_ID</th>\n      <th>Age</th>\n      <th>Customer_Segment</th>\n      <th>Customer_Vintage_Group</th>\n    </tr>\n  </thead>\n  <tbody>\n    <tr>\n      <th>0</th>\n      <td>CC25034</td>\n      <td>35</td>\n      <td>Diamond</td>\n      <td>VG1</td>\n    </tr>\n    <tr>\n      <th>1</th>\n      <td>CC59625</td>\n      <td>22</td>\n      <td>Diamond</td>\n      <td>VG1</td>\n    </tr>\n    <tr>\n      <th>2</th>\n      <td>CC69314</td>\n      <td>33</td>\n      <td>Diamond</td>\n      <td>VG1</td>\n    </tr>\n    <tr>\n      <th>3</th>\n      <td>CC67036</td>\n      <td>46</td>\n      <td>Diamond</td>\n      <td>VG1</td>\n    </tr>\n    <tr>\n      <th>4</th>\n      <td>CC25597</td>\n      <td>44</td>\n      <td>Diamond</td>\n      <td>VG1</td>\n    </tr>\n  </tbody>\n</table>\n</div>"
     },
     "metadata": {},
     "output_type": "display_data"
    },
    {
     "data": {
      "text/plain": "  Transaction_ID Transaction_Date       Credit_Card_ID  Transaction_Value  \\\n0   CTID28830551        24-Apr-16  1629-9566-3285-2123              23649   \n1   CTID45504917        11-Feb-16  3697-6001-4909-5350              26726   \n2   CTID47312290         1-Nov-16  5864-4475-3659-1440              22012   \n3   CTID25637718        28-Jan-16  5991-4421-8476-3804              37637   \n4   CTID66743960        17-Mar-16  1893-8853-9900-8478               5113   \n\n  Transaction_Segment  \n0               SEG25  \n1               SEG16  \n2               SEG14  \n3               SEG17  \n4               SEG14  ",
      "text/html": "<div>\n<style scoped>\n    .dataframe tbody tr th:only-of-type {\n        vertical-align: middle;\n    }\n\n    .dataframe tbody tr th {\n        vertical-align: top;\n    }\n\n    .dataframe thead th {\n        text-align: right;\n    }\n</style>\n<table border=\"1\" class=\"dataframe\">\n  <thead>\n    <tr style=\"text-align: right;\">\n      <th></th>\n      <th>Transaction_ID</th>\n      <th>Transaction_Date</th>\n      <th>Credit_Card_ID</th>\n      <th>Transaction_Value</th>\n      <th>Transaction_Segment</th>\n    </tr>\n  </thead>\n  <tbody>\n    <tr>\n      <th>0</th>\n      <td>CTID28830551</td>\n      <td>24-Apr-16</td>\n      <td>1629-9566-3285-2123</td>\n      <td>23649</td>\n      <td>SEG25</td>\n    </tr>\n    <tr>\n      <th>1</th>\n      <td>CTID45504917</td>\n      <td>11-Feb-16</td>\n      <td>3697-6001-4909-5350</td>\n      <td>26726</td>\n      <td>SEG16</td>\n    </tr>\n    <tr>\n      <th>2</th>\n      <td>CTID47312290</td>\n      <td>1-Nov-16</td>\n      <td>5864-4475-3659-1440</td>\n      <td>22012</td>\n      <td>SEG14</td>\n    </tr>\n    <tr>\n      <th>3</th>\n      <td>CTID25637718</td>\n      <td>28-Jan-16</td>\n      <td>5991-4421-8476-3804</td>\n      <td>37637</td>\n      <td>SEG17</td>\n    </tr>\n    <tr>\n      <th>4</th>\n      <td>CTID66743960</td>\n      <td>17-Mar-16</td>\n      <td>1893-8853-9900-8478</td>\n      <td>5113</td>\n      <td>SEG14</td>\n    </tr>\n  </tbody>\n</table>\n</div>"
     },
     "metadata": {},
     "output_type": "display_data"
    },
    {
     "data": {
      "text/plain": "  Transaction_ID  Fraud_Flag\n0   CTID50558449           1\n1   CTID55936882           1\n2   CTID63762180           1\n3   CTID76723439           1\n4   CTID21246201           1",
      "text/html": "<div>\n<style scoped>\n    .dataframe tbody tr th:only-of-type {\n        vertical-align: middle;\n    }\n\n    .dataframe tbody tr th {\n        vertical-align: top;\n    }\n\n    .dataframe thead th {\n        text-align: right;\n    }\n</style>\n<table border=\"1\" class=\"dataframe\">\n  <thead>\n    <tr style=\"text-align: right;\">\n      <th></th>\n      <th>Transaction_ID</th>\n      <th>Fraud_Flag</th>\n    </tr>\n  </thead>\n  <tbody>\n    <tr>\n      <th>0</th>\n      <td>CTID50558449</td>\n      <td>1</td>\n    </tr>\n    <tr>\n      <th>1</th>\n      <td>CTID55936882</td>\n      <td>1</td>\n    </tr>\n    <tr>\n      <th>2</th>\n      <td>CTID63762180</td>\n      <td>1</td>\n    </tr>\n    <tr>\n      <th>3</th>\n      <td>CTID76723439</td>\n      <td>1</td>\n    </tr>\n    <tr>\n      <th>4</th>\n      <td>CTID21246201</td>\n      <td>1</td>\n    </tr>\n  </tbody>\n</table>\n</div>"
     },
     "metadata": {},
     "output_type": "display_data"
    }
   ],
   "source": [
    "import pandas as pd\n",
    "\n",
    "# Read csv to dataframes\n",
    "\n",
    "df_cards = pd.read_csv('data/credit_card_data/CardBase.csv')\n",
    "df_customers = pd.read_csv('data/credit_card_data/CustomerBase.csv')\n",
    "df_transactions = pd.read_csv('data/credit_card_data/TransactionBase.csv')\n",
    "df_frauds = pd.read_csv('data/credit_card_data/FraudBase.csv')\n",
    "\n",
    "\n",
    "# View table info and first 5 rows of each table\n",
    "newline = '\\n'\n",
    "print(df_cards.info())\n",
    "display(df_cards.head())\n",
    "print(newline)\n",
    "\n",
    "print(df_customers.info())\n",
    "display(df_customers.head())\n",
    "print(newline)\n",
    "\n",
    "print(df_transactions.info())\n",
    "display(df_transactions.head())\n",
    "print(newline)\n",
    "\n",
    "print(df_frauds.info())\n",
    "display(df_frauds.head())\n"
   ]
  },
  {
   "cell_type": "markdown",
   "metadata": {},
   "source": [
    "## Drop and create sqlite tables\n",
    "\n",
    "We are going to check if each table exists. If not, we will create it.\n",
    "The code below uses 'string formatting' to make string concatenation easier"
   ]
  },
  {
   "cell_type": "code",
   "execution_count": 3,
   "metadata": {},
   "outputs": [
    {
     "name": "stdout",
     "output_type": "stream",
     "text": [
      "cards exists\n",
      "customers exists\n",
      "transactions exists\n",
      "frauds exists\n"
     ]
    }
   ],
   "source": [
    "cnx = sqlite3.connect('data/credit_card_data/credit_card_data.sqlite')\n",
    "cur = cnx.cursor()\n",
    "\n",
    "# Check if table exists in sqlite database\n",
    "\n",
    "def table_exists(table_name):  \n",
    "    #get the count of tables with the name\n",
    "    result = cur.execute('SELECT count(name) FROM sqlite_master WHERE type=\"table\" AND name=\"%s\"' % table_name)\n",
    "\n",
    "    #if the count is 1, then table exists\n",
    "    if cur.fetchone()[0]==1 :\n",
    "        print('%s exists' % table_name)\n",
    "        return True\n",
    "    \n",
    "    print('%s does not exist' % table_name)\n",
    "    return False\n",
    " \n",
    "    \n",
    "# DROP TABLE\n",
    "\n",
    "def drop_table(table_name):\n",
    "    print('drop %s' % table_name)\n",
    "    sql = 'DROP TABLE %s' % table_name\n",
    "    cur.execute(sql)\n",
    "    \n",
    "    \n",
    "# Put table info into a list of tuples to keep code \"DRY\"\n",
    "\n",
    "tables = [('cards', df_cards), ('customers', df_customers), ('transactions', df_transactions), ('frauds', df_frauds)]\n",
    "\n",
    "for (table_name, df) in tables:\n",
    "#     if table_exists(table_name):\n",
    "#         drop_table(table_name)\n",
    "      \n",
    "    # CREATE table\n",
    "    if not table_exists(table_name):\n",
    "        print('CREATE %s' % table_name)   \n",
    "        df.to_sql(name=table_name, con=cnx)\n",
    "   \n",
    "cur.close()   \n",
    "cnx.close()"
   ]
  },
  {
   "cell_type": "markdown",
   "metadata": {},
   "source": [
    "## Read the data\n",
    "\n",
    "To understand what data we are working with, we will connect to a sqlite database, list the table names, list the column names, and preview data for each table.\n",
    "\n",
    "We already saw this information in our dataframes above, but let's do it this way as as an exercise."
   ]
  },
  {
   "cell_type": "code",
   "execution_count": 4,
   "metadata": {
    "pycharm": {
     "name": "#%%\n"
    }
   },
   "outputs": [
    {
     "name": "stdout",
     "output_type": "stream",
     "text": [
      "Tables:\n",
      "  cards\n",
      "  customers\n",
      "  transactions\n",
      "  frauds\n",
      "\n",
      "\n",
      "Columns for cards:\n",
      "(0, 'index', 'INTEGER', 0, None, 0)\n",
      "(1, 'Card_Number', 'TEXT', 0, None, 0)\n",
      "(2, 'Card_Family', 'TEXT', 0, None, 0)\n",
      "(3, 'Credit_Limit', 'INTEGER', 0, None, 0)\n",
      "(4, 'Cust_ID', 'TEXT', 0, None, 0)\n",
      "None\n",
      "\n",
      "\n",
      "Columns for cards:\n",
      "(0, '8638-5407-3631-8196', 'Premium', 530000, 'CC67088')\n",
      "(1, '7106-4239-7093-1515', 'Gold', 18000, 'CC12076')\n",
      "(2, '6492-5655-8241-3530', 'Premium', 596000, 'CC97173')\n",
      "(3, '2868-5606-5152-5706', 'Gold', 27000, 'CC55858')\n",
      "(4, '1438-6906-2509-8219', 'Platinum', 142000, 'CC90518')\n",
      "\n",
      "\n",
      "Columns for customers:\n",
      "(0, 'index', 'INTEGER', 0, None, 0)\n",
      "(1, 'Cust_ID', 'TEXT', 0, None, 0)\n",
      "(2, 'Age', 'INTEGER', 0, None, 0)\n",
      "(3, 'Customer_Segment', 'TEXT', 0, None, 0)\n",
      "(4, 'Customer_Vintage_Group', 'TEXT', 0, None, 0)\n",
      "None\n",
      "\n",
      "\n",
      "Columns for customers:\n",
      "(0, 'CC25034', 35, 'Diamond', 'VG1')\n",
      "(1, 'CC59625', 22, 'Diamond', 'VG1')\n",
      "(2, 'CC69314', 33, 'Diamond', 'VG1')\n",
      "(3, 'CC67036', 46, 'Diamond', 'VG1')\n",
      "(4, 'CC25597', 44, 'Diamond', 'VG1')\n",
      "\n",
      "\n",
      "Columns for transactions:\n",
      "(0, 'index', 'INTEGER', 0, None, 0)\n",
      "(1, 'Transaction_ID', 'TEXT', 0, None, 0)\n",
      "(2, 'Transaction_Date', 'TEXT', 0, None, 0)\n",
      "(3, 'Credit_Card_ID', 'TEXT', 0, None, 0)\n",
      "(4, 'Transaction_Value', 'INTEGER', 0, None, 0)\n",
      "(5, 'Transaction_Segment', 'TEXT', 0, None, 0)\n",
      "None\n",
      "\n",
      "\n",
      "Columns for transactions:\n",
      "(0, 'CTID28830551', '24-Apr-16', '1629-9566-3285-2123', 23649, 'SEG25')\n",
      "(1, 'CTID45504917', '11-Feb-16', '3697-6001-4909-5350', 26726, 'SEG16')\n",
      "(2, 'CTID47312290', '1-Nov-16', '5864-4475-3659-1440', 22012, 'SEG14')\n",
      "(3, 'CTID25637718', '28-Jan-16', '5991-4421-8476-3804', 37637, 'SEG17')\n",
      "(4, 'CTID66743960', '17-Mar-16', '1893-8853-9900-8478', 5113, 'SEG14')\n",
      "\n",
      "\n",
      "Columns for frauds:\n",
      "(0, 'index', 'INTEGER', 0, None, 0)\n",
      "(1, 'Transaction_ID', 'TEXT', 0, None, 0)\n",
      "(2, 'Fraud_Flag', 'INTEGER', 0, None, 0)\n",
      "None\n",
      "\n",
      "\n",
      "Columns for frauds:\n",
      "(0, 'CTID50558449', 1)\n",
      "(1, 'CTID55936882', 1)\n",
      "(2, 'CTID63762180', 1)\n",
      "(3, 'CTID76723439', 1)\n",
      "(4, 'CTID21246201', 1)\n",
      "\n",
      "\n"
     ]
    }
   ],
   "source": [
    "cnx = sqlite3.connect('data/credit_card_data/credit_card_data.sqlite')\n",
    "cur = cnx.cursor()\n",
    "\n",
    "newline_tab =  '\\n  '\n",
    "\n",
    "# Print table names\n",
    "\n",
    "result = cur.execute('SELECT name FROM sqlite_master WHERE type=\"table\"').fetchall()\n",
    "table_names = list(zip(*result))[0]\n",
    "print ('Tables:', newline_tab.join(table_names), sep = newline_tab)\n",
    "print(newline)\n",
    "\n",
    "# Print column names\n",
    "\n",
    "for table_name in table_names:\n",
    "    result = cur.execute('PRAGMA table_info(\"%s\")' % table_name).fetchall()\n",
    "    print ('Columns for %s:' % table_name)\n",
    "    print(print(*result, sep=newline))\n",
    "    print(newline)\n",
    "    \n",
    "    \n",
    "    print ('Columns for %s:' % table_name)\n",
    "    rows = cur.execute('SELECT * from %s LIMIT 5' % table_name)\n",
    "    for row in rows:\n",
    "        print(row)\n",
    "    print(newline)\n",
    "   \n",
    "cur.close()  \n",
    "cnx.close()"
   ]
  },
  {
   "cell_type": "markdown",
   "metadata": {},
   "source": [
    "## Join Types\n",
    "\n",
    "Outer joins return every row from at least one table."
   ]
  },
  {
   "cell_type": "markdown",
   "metadata": {},
   "source": [
    "#### Left outer joins \n",
    "All rows from the left table with any matches from the right table. If no matches, null is returned for each column of the right table.\n",
    "\n",
    "This is the join type you will use 99% of the time. It is great for one-to-one and one-to-many relationships."
   ]
  },
  {
   "cell_type": "code",
   "execution_count": 5,
   "metadata": {
    "pycharm": {
     "name": "#%%\n"
    }
   },
   "outputs": [
    {
     "data": {
      "text/plain": "      index  Cust_ID  Age Customer_Segment Customer_Vintage_Group  index  \\\n0         0  CC25034   35          Diamond                    VG1    NaN   \n1         1  CC59625   22          Diamond                    VG1    NaN   \n2         2  CC69314   33          Diamond                    VG1    NaN   \n3         3  CC67036   46          Diamond                    VG1    NaN   \n4         4  CC25597   44          Diamond                    VG1    NaN   \n...     ...      ...  ...              ...                    ...    ...   \n5687   5669  CC53430   27         Platinum                    VG2    NaN   \n5688   5670  CC31823   33         Platinum                    VG2    NaN   \n5689   5671  CC15335   28         Platinum                    VG2    NaN   \n5690   5672  CC81556   26         Platinum                    VG2    NaN   \n5691   5673  CC38634   21         Platinum                    VG2    NaN   \n\n     Card_Number Card_Family  Credit_Limit Cust_ID  \n0           None        None           NaN    None  \n1           None        None           NaN    None  \n2           None        None           NaN    None  \n3           None        None           NaN    None  \n4           None        None           NaN    None  \n...          ...         ...           ...     ...  \n5687        None        None           NaN    None  \n5688        None        None           NaN    None  \n5689        None        None           NaN    None  \n5690        None        None           NaN    None  \n5691        None        None           NaN    None  \n\n[5692 rows x 10 columns]",
      "text/html": "<div>\n<style scoped>\n    .dataframe tbody tr th:only-of-type {\n        vertical-align: middle;\n    }\n\n    .dataframe tbody tr th {\n        vertical-align: top;\n    }\n\n    .dataframe thead th {\n        text-align: right;\n    }\n</style>\n<table border=\"1\" class=\"dataframe\">\n  <thead>\n    <tr style=\"text-align: right;\">\n      <th></th>\n      <th>index</th>\n      <th>Cust_ID</th>\n      <th>Age</th>\n      <th>Customer_Segment</th>\n      <th>Customer_Vintage_Group</th>\n      <th>index</th>\n      <th>Card_Number</th>\n      <th>Card_Family</th>\n      <th>Credit_Limit</th>\n      <th>Cust_ID</th>\n    </tr>\n  </thead>\n  <tbody>\n    <tr>\n      <th>0</th>\n      <td>0</td>\n      <td>CC25034</td>\n      <td>35</td>\n      <td>Diamond</td>\n      <td>VG1</td>\n      <td>NaN</td>\n      <td>None</td>\n      <td>None</td>\n      <td>NaN</td>\n      <td>None</td>\n    </tr>\n    <tr>\n      <th>1</th>\n      <td>1</td>\n      <td>CC59625</td>\n      <td>22</td>\n      <td>Diamond</td>\n      <td>VG1</td>\n      <td>NaN</td>\n      <td>None</td>\n      <td>None</td>\n      <td>NaN</td>\n      <td>None</td>\n    </tr>\n    <tr>\n      <th>2</th>\n      <td>2</td>\n      <td>CC69314</td>\n      <td>33</td>\n      <td>Diamond</td>\n      <td>VG1</td>\n      <td>NaN</td>\n      <td>None</td>\n      <td>None</td>\n      <td>NaN</td>\n      <td>None</td>\n    </tr>\n    <tr>\n      <th>3</th>\n      <td>3</td>\n      <td>CC67036</td>\n      <td>46</td>\n      <td>Diamond</td>\n      <td>VG1</td>\n      <td>NaN</td>\n      <td>None</td>\n      <td>None</td>\n      <td>NaN</td>\n      <td>None</td>\n    </tr>\n    <tr>\n      <th>4</th>\n      <td>4</td>\n      <td>CC25597</td>\n      <td>44</td>\n      <td>Diamond</td>\n      <td>VG1</td>\n      <td>NaN</td>\n      <td>None</td>\n      <td>None</td>\n      <td>NaN</td>\n      <td>None</td>\n    </tr>\n    <tr>\n      <th>...</th>\n      <td>...</td>\n      <td>...</td>\n      <td>...</td>\n      <td>...</td>\n      <td>...</td>\n      <td>...</td>\n      <td>...</td>\n      <td>...</td>\n      <td>...</td>\n      <td>...</td>\n    </tr>\n    <tr>\n      <th>5687</th>\n      <td>5669</td>\n      <td>CC53430</td>\n      <td>27</td>\n      <td>Platinum</td>\n      <td>VG2</td>\n      <td>NaN</td>\n      <td>None</td>\n      <td>None</td>\n      <td>NaN</td>\n      <td>None</td>\n    </tr>\n    <tr>\n      <th>5688</th>\n      <td>5670</td>\n      <td>CC31823</td>\n      <td>33</td>\n      <td>Platinum</td>\n      <td>VG2</td>\n      <td>NaN</td>\n      <td>None</td>\n      <td>None</td>\n      <td>NaN</td>\n      <td>None</td>\n    </tr>\n    <tr>\n      <th>5689</th>\n      <td>5671</td>\n      <td>CC15335</td>\n      <td>28</td>\n      <td>Platinum</td>\n      <td>VG2</td>\n      <td>NaN</td>\n      <td>None</td>\n      <td>None</td>\n      <td>NaN</td>\n      <td>None</td>\n    </tr>\n    <tr>\n      <th>5690</th>\n      <td>5672</td>\n      <td>CC81556</td>\n      <td>26</td>\n      <td>Platinum</td>\n      <td>VG2</td>\n      <td>NaN</td>\n      <td>None</td>\n      <td>None</td>\n      <td>NaN</td>\n      <td>None</td>\n    </tr>\n    <tr>\n      <th>5691</th>\n      <td>5673</td>\n      <td>CC38634</td>\n      <td>21</td>\n      <td>Platinum</td>\n      <td>VG2</td>\n      <td>NaN</td>\n      <td>None</td>\n      <td>None</td>\n      <td>NaN</td>\n      <td>None</td>\n    </tr>\n  </tbody>\n</table>\n<p>5692 rows × 10 columns</p>\n</div>"
     },
     "metadata": {},
     "output_type": "display_data"
    },
    {
     "data": {
      "text/plain": "       Fraud_Flag Transaction_ID Transaction_Date       Credit_Card_ID  \\\nindex                                                                    \n0             NaN   CTID28830551        24-Apr-16  1629-9566-3285-2123   \n1             NaN   CTID45504917        11-Feb-16  3697-6001-4909-5350   \n2             NaN   CTID47312290         1-Nov-16  5864-4475-3659-1440   \n3             NaN   CTID25637718        28-Jan-16  5991-4421-8476-3804   \n4             NaN   CTID66743960        17-Mar-16  1893-8853-9900-8478   \n...           ...            ...              ...                  ...   \n9995          NaN   CTID25037573        10-Jun-16  9157-2802-8374-1145   \n9996          NaN   CTID43832298        23-May-16  7416-4529-6690-5703   \n9997          NaN   CTID56532072         6-Aug-16  6699-2639-4522-6219   \n9998          NaN   CTID88101446        10-Oct-16  8341-5263-4582-7396   \n9999          NaN   CTID64730271        18-Jun-16  1947-8602-1695-7503   \n\n       Transaction_Value Transaction_Segment  \nindex                                         \n0                  23649               SEG25  \n1                  26726               SEG16  \n2                  22012               SEG14  \n3                  37637               SEG17  \n4                   5113               SEG14  \n...                  ...                 ...  \n9995               44280               SEG18  \n9996               27163               SEG12  \n9997               36424               SEG13  \n9998                8464               SEG14  \n9999                7606               SEG15  \n\n[10000 rows x 6 columns]",
      "text/html": "<div>\n<style scoped>\n    .dataframe tbody tr th:only-of-type {\n        vertical-align: middle;\n    }\n\n    .dataframe tbody tr th {\n        vertical-align: top;\n    }\n\n    .dataframe thead th {\n        text-align: right;\n    }\n</style>\n<table border=\"1\" class=\"dataframe\">\n  <thead>\n    <tr style=\"text-align: right;\">\n      <th></th>\n      <th>Fraud_Flag</th>\n      <th>Transaction_ID</th>\n      <th>Transaction_Date</th>\n      <th>Credit_Card_ID</th>\n      <th>Transaction_Value</th>\n      <th>Transaction_Segment</th>\n    </tr>\n    <tr>\n      <th>index</th>\n      <th></th>\n      <th></th>\n      <th></th>\n      <th></th>\n      <th></th>\n      <th></th>\n    </tr>\n  </thead>\n  <tbody>\n    <tr>\n      <th>0</th>\n      <td>NaN</td>\n      <td>CTID28830551</td>\n      <td>24-Apr-16</td>\n      <td>1629-9566-3285-2123</td>\n      <td>23649</td>\n      <td>SEG25</td>\n    </tr>\n    <tr>\n      <th>1</th>\n      <td>NaN</td>\n      <td>CTID45504917</td>\n      <td>11-Feb-16</td>\n      <td>3697-6001-4909-5350</td>\n      <td>26726</td>\n      <td>SEG16</td>\n    </tr>\n    <tr>\n      <th>2</th>\n      <td>NaN</td>\n      <td>CTID47312290</td>\n      <td>1-Nov-16</td>\n      <td>5864-4475-3659-1440</td>\n      <td>22012</td>\n      <td>SEG14</td>\n    </tr>\n    <tr>\n      <th>3</th>\n      <td>NaN</td>\n      <td>CTID25637718</td>\n      <td>28-Jan-16</td>\n      <td>5991-4421-8476-3804</td>\n      <td>37637</td>\n      <td>SEG17</td>\n    </tr>\n    <tr>\n      <th>4</th>\n      <td>NaN</td>\n      <td>CTID66743960</td>\n      <td>17-Mar-16</td>\n      <td>1893-8853-9900-8478</td>\n      <td>5113</td>\n      <td>SEG14</td>\n    </tr>\n    <tr>\n      <th>...</th>\n      <td>...</td>\n      <td>...</td>\n      <td>...</td>\n      <td>...</td>\n      <td>...</td>\n      <td>...</td>\n    </tr>\n    <tr>\n      <th>9995</th>\n      <td>NaN</td>\n      <td>CTID25037573</td>\n      <td>10-Jun-16</td>\n      <td>9157-2802-8374-1145</td>\n      <td>44280</td>\n      <td>SEG18</td>\n    </tr>\n    <tr>\n      <th>9996</th>\n      <td>NaN</td>\n      <td>CTID43832298</td>\n      <td>23-May-16</td>\n      <td>7416-4529-6690-5703</td>\n      <td>27163</td>\n      <td>SEG12</td>\n    </tr>\n    <tr>\n      <th>9997</th>\n      <td>NaN</td>\n      <td>CTID56532072</td>\n      <td>6-Aug-16</td>\n      <td>6699-2639-4522-6219</td>\n      <td>36424</td>\n      <td>SEG13</td>\n    </tr>\n    <tr>\n      <th>9998</th>\n      <td>NaN</td>\n      <td>CTID88101446</td>\n      <td>10-Oct-16</td>\n      <td>8341-5263-4582-7396</td>\n      <td>8464</td>\n      <td>SEG14</td>\n    </tr>\n    <tr>\n      <th>9999</th>\n      <td>NaN</td>\n      <td>CTID64730271</td>\n      <td>18-Jun-16</td>\n      <td>1947-8602-1695-7503</td>\n      <td>7606</td>\n      <td>SEG15</td>\n    </tr>\n  </tbody>\n</table>\n<p>10000 rows × 6 columns</p>\n</div>"
     },
     "metadata": {},
     "output_type": "display_data"
    }
   ],
   "source": [
    "cnx = sqlite3.connect('data/credit_card_data/credit_card_data.sqlite')\n",
    "cur = cnx.cursor()\n",
    "\n",
    "# Request: Show me all of the data on customers and their credit cards\n",
    "\n",
    "cur.execute('''SELECT * \n",
    "               FROM customers \n",
    "                 LEFT JOIN cards ON customers.CUST_ID = cards.CUST_ID''')\n",
    "customer_cards = pd.DataFrame(cur.fetchall())\n",
    "customer_cards.columns = [x[0] for x in cur.description]\n",
    "display(customer_cards)\n",
    "\n",
    "# Possible next steps: Group by customer and count number of cards\n",
    "\n",
    "\n",
    "# ----- RIGHT JOIN (not supported by sqlite) -----\n",
    "\n",
    "# Request: I want a list of transactions preceded by a flag if they are fraudulent\n",
    "# Possible next steps: Group by credit card number and get the sum of fraudulent transaction amounts\n",
    "\n",
    "# transactions_flagged = pd.read_sql('''SELECT frauds.Fraud_Flag, transactions.*\n",
    "#                    FROM frauds \n",
    "#                      RIGHT JOIN transactions ON frauds.Transaction_ID = cards.Transaction_ID''',\n",
    "#                con=cnx)\n",
    "transactions_flagged = pd.read_sql(\n",
    "    '''SELECT frauds.Fraud_Flag, transactions.*\n",
    "       FROM transactions \n",
    "         LEFT JOIN frauds ON frauds.Transaction_ID = transactions.Transaction_ID''',\n",
    "    con=cnx, index_col='index')\n",
    "display(transactions_flagged)\n",
    "\n",
    "   \n",
    "cur.close()  \n",
    "cnx.close()"
   ]
  },
  {
   "cell_type": "markdown",
   "metadata": {},
   "source": [
    "\n",
    "#### Right outer joins\n",
    "All rows from the right table with any matches from the left table. If no matches, null is returned for each column of the left table.\n",
    "\n",
    "These queries can always be written as the opposite left join. You might want to use a right join to makes your query easier to read and understand."
   ]
  },
  {
   "cell_type": "code",
   "execution_count": 6,
   "metadata": {
    "pycharm": {
     "name": "#%%\n"
    }
   },
   "outputs": [
    {
     "data": {
      "text/plain": "       Fraud_Flag Transaction_ID Transaction_Date       Credit_Card_ID  \\\nindex                                                                    \n0             NaN   CTID28830551        24-Apr-16  1629-9566-3285-2123   \n1             NaN   CTID45504917        11-Feb-16  3697-6001-4909-5350   \n2             NaN   CTID47312290         1-Nov-16  5864-4475-3659-1440   \n3             NaN   CTID25637718        28-Jan-16  5991-4421-8476-3804   \n4             NaN   CTID66743960        17-Mar-16  1893-8853-9900-8478   \n...           ...            ...              ...                  ...   \n9995          NaN   CTID25037573        10-Jun-16  9157-2802-8374-1145   \n9996          NaN   CTID43832298        23-May-16  7416-4529-6690-5703   \n9997          NaN   CTID56532072         6-Aug-16  6699-2639-4522-6219   \n9998          NaN   CTID88101446        10-Oct-16  8341-5263-4582-7396   \n9999          NaN   CTID64730271        18-Jun-16  1947-8602-1695-7503   \n\n       Transaction_Value Transaction_Segment  \nindex                                         \n0                  23649               SEG25  \n1                  26726               SEG16  \n2                  22012               SEG14  \n3                  37637               SEG17  \n4                   5113               SEG14  \n...                  ...                 ...  \n9995               44280               SEG18  \n9996               27163               SEG12  \n9997               36424               SEG13  \n9998                8464               SEG14  \n9999                7606               SEG15  \n\n[10000 rows x 6 columns]",
      "text/html": "<div>\n<style scoped>\n    .dataframe tbody tr th:only-of-type {\n        vertical-align: middle;\n    }\n\n    .dataframe tbody tr th {\n        vertical-align: top;\n    }\n\n    .dataframe thead th {\n        text-align: right;\n    }\n</style>\n<table border=\"1\" class=\"dataframe\">\n  <thead>\n    <tr style=\"text-align: right;\">\n      <th></th>\n      <th>Fraud_Flag</th>\n      <th>Transaction_ID</th>\n      <th>Transaction_Date</th>\n      <th>Credit_Card_ID</th>\n      <th>Transaction_Value</th>\n      <th>Transaction_Segment</th>\n    </tr>\n    <tr>\n      <th>index</th>\n      <th></th>\n      <th></th>\n      <th></th>\n      <th></th>\n      <th></th>\n      <th></th>\n    </tr>\n  </thead>\n  <tbody>\n    <tr>\n      <th>0</th>\n      <td>NaN</td>\n      <td>CTID28830551</td>\n      <td>24-Apr-16</td>\n      <td>1629-9566-3285-2123</td>\n      <td>23649</td>\n      <td>SEG25</td>\n    </tr>\n    <tr>\n      <th>1</th>\n      <td>NaN</td>\n      <td>CTID45504917</td>\n      <td>11-Feb-16</td>\n      <td>3697-6001-4909-5350</td>\n      <td>26726</td>\n      <td>SEG16</td>\n    </tr>\n    <tr>\n      <th>2</th>\n      <td>NaN</td>\n      <td>CTID47312290</td>\n      <td>1-Nov-16</td>\n      <td>5864-4475-3659-1440</td>\n      <td>22012</td>\n      <td>SEG14</td>\n    </tr>\n    <tr>\n      <th>3</th>\n      <td>NaN</td>\n      <td>CTID25637718</td>\n      <td>28-Jan-16</td>\n      <td>5991-4421-8476-3804</td>\n      <td>37637</td>\n      <td>SEG17</td>\n    </tr>\n    <tr>\n      <th>4</th>\n      <td>NaN</td>\n      <td>CTID66743960</td>\n      <td>17-Mar-16</td>\n      <td>1893-8853-9900-8478</td>\n      <td>5113</td>\n      <td>SEG14</td>\n    </tr>\n    <tr>\n      <th>...</th>\n      <td>...</td>\n      <td>...</td>\n      <td>...</td>\n      <td>...</td>\n      <td>...</td>\n      <td>...</td>\n    </tr>\n    <tr>\n      <th>9995</th>\n      <td>NaN</td>\n      <td>CTID25037573</td>\n      <td>10-Jun-16</td>\n      <td>9157-2802-8374-1145</td>\n      <td>44280</td>\n      <td>SEG18</td>\n    </tr>\n    <tr>\n      <th>9996</th>\n      <td>NaN</td>\n      <td>CTID43832298</td>\n      <td>23-May-16</td>\n      <td>7416-4529-6690-5703</td>\n      <td>27163</td>\n      <td>SEG12</td>\n    </tr>\n    <tr>\n      <th>9997</th>\n      <td>NaN</td>\n      <td>CTID56532072</td>\n      <td>6-Aug-16</td>\n      <td>6699-2639-4522-6219</td>\n      <td>36424</td>\n      <td>SEG13</td>\n    </tr>\n    <tr>\n      <th>9998</th>\n      <td>NaN</td>\n      <td>CTID88101446</td>\n      <td>10-Oct-16</td>\n      <td>8341-5263-4582-7396</td>\n      <td>8464</td>\n      <td>SEG14</td>\n    </tr>\n    <tr>\n      <th>9999</th>\n      <td>NaN</td>\n      <td>CTID64730271</td>\n      <td>18-Jun-16</td>\n      <td>1947-8602-1695-7503</td>\n      <td>7606</td>\n      <td>SEG15</td>\n    </tr>\n  </tbody>\n</table>\n<p>10000 rows × 6 columns</p>\n</div>"
     },
     "metadata": {},
     "output_type": "display_data"
    },
    {
     "data": {
      "text/plain": "     Fraud_Total       Credit_Card_ID\n0              0  1113-9175-3253-8426\n1              0  1123-9777-7335-9167\n2              0  1127-9633-2269-3119\n3              0  1159-7886-1385-5540\n4          22063  1175-3754-1370-5515\n..           ...                  ...\n495            0  9933-8699-5268-4345\n496            0  9946-6939-3033-9593\n497            0  9961-2869-2603-3317\n498            0  9991-4727-7710-2269\n499            0  9999-3058-2698-4238\n\n[500 rows x 2 columns]",
      "text/html": "<div>\n<style scoped>\n    .dataframe tbody tr th:only-of-type {\n        vertical-align: middle;\n    }\n\n    .dataframe tbody tr th {\n        vertical-align: top;\n    }\n\n    .dataframe thead th {\n        text-align: right;\n    }\n</style>\n<table border=\"1\" class=\"dataframe\">\n  <thead>\n    <tr style=\"text-align: right;\">\n      <th></th>\n      <th>Fraud_Total</th>\n      <th>Credit_Card_ID</th>\n    </tr>\n  </thead>\n  <tbody>\n    <tr>\n      <th>0</th>\n      <td>0</td>\n      <td>1113-9175-3253-8426</td>\n    </tr>\n    <tr>\n      <th>1</th>\n      <td>0</td>\n      <td>1123-9777-7335-9167</td>\n    </tr>\n    <tr>\n      <th>2</th>\n      <td>0</td>\n      <td>1127-9633-2269-3119</td>\n    </tr>\n    <tr>\n      <th>3</th>\n      <td>0</td>\n      <td>1159-7886-1385-5540</td>\n    </tr>\n    <tr>\n      <th>4</th>\n      <td>22063</td>\n      <td>1175-3754-1370-5515</td>\n    </tr>\n    <tr>\n      <th>...</th>\n      <td>...</td>\n      <td>...</td>\n    </tr>\n    <tr>\n      <th>495</th>\n      <td>0</td>\n      <td>9933-8699-5268-4345</td>\n    </tr>\n    <tr>\n      <th>496</th>\n      <td>0</td>\n      <td>9946-6939-3033-9593</td>\n    </tr>\n    <tr>\n      <th>497</th>\n      <td>0</td>\n      <td>9961-2869-2603-3317</td>\n    </tr>\n    <tr>\n      <th>498</th>\n      <td>0</td>\n      <td>9991-4727-7710-2269</td>\n    </tr>\n    <tr>\n      <th>499</th>\n      <td>0</td>\n      <td>9999-3058-2698-4238</td>\n    </tr>\n  </tbody>\n</table>\n<p>500 rows × 2 columns</p>\n</div>"
     },
     "metadata": {},
     "output_type": "display_data"
    }
   ],
   "source": [
    "cnx = sqlite3.connect('data/credit_card_data/credit_card_data.sqlite')\n",
    "cur = cnx.cursor()\n",
    "\n",
    "# Request: I want a list of transactions preceded by a flag if they are fraudulent\n",
    "\n",
    "# RIGHT JOIN below is not supported by sqlite\n",
    "\n",
    "# transactions_flagged = pd.read_sql('''SELECT frauds.Fraud_Flag, transactions.*\n",
    "#                    FROM frauds \n",
    "#                      RIGHT JOIN transactions ON frauds.Transaction_ID = cards.Transaction_ID''',\n",
    "#                con=cnx)\n",
    "\n",
    "# Equivalent supported query\n",
    "\n",
    "transactions_flagged = pd.read_sql(\n",
    "    '''SELECT frauds.Fraud_Flag, transactions.*\n",
    "       FROM transactions \n",
    "         LEFT JOIN frauds ON frauds.Transaction_ID = transactions.Transaction_ID''',\n",
    "    con=cnx, index_col='index')\n",
    "display(transactions_flagged)\n",
    "\n",
    "\n",
    "# Possible next steps: Get the total of fraudulent transaction amounts for every credit card\n",
    "\n",
    "fraud_amounts_by_card = pd.read_sql(\n",
    "    '''SELECT SUM(\n",
    "         CASE WHEN frauds.Fraud_Flag = 1\n",
    "           THEN transactions.Transaction_Value \n",
    "           ELSE 0 END\n",
    "        ) AS Fraud_Total, transactions.Credit_Card_ID\n",
    "       FROM transactions \n",
    "         LEFT JOIN frauds ON frauds.Transaction_ID = transactions.Transaction_ID\n",
    "       GROUP BY transactions.Credit_Card_ID''',\n",
    "   con=cnx)\n",
    "display(fraud_amounts_by_card)\n",
    "\n",
    "   \n",
    "cur.close()  \n",
    "cnx.close()"
   ]
  },
  {
   "cell_type": "markdown",
   "metadata": {},
   "source": [
    "#### Full outer joins\n",
    "All rows from the left table and the right table. If no matches, null is returned for each column of the left or right table as needed.\n",
    "\n",
    "This is a great query to see if you have missing data so you can address the issue."
   ]
  },
  {
   "cell_type": "code",
   "execution_count": 7,
   "metadata": {
    "pycharm": {
     "name": "#%%\n"
    }
   },
   "outputs": [
    {
     "data": {
      "text/plain": "      index  Cust_ID  Age Customer_Segment Customer_Vintage_Group  index  \\\n0         0  CC25034   35          Diamond                    VG1    NaN   \n1         1  CC59625   22          Diamond                    VG1    NaN   \n2         2  CC69314   33          Diamond                    VG1    NaN   \n3         3  CC67036   46          Diamond                    VG1    NaN   \n4         4  CC25597   44          Diamond                    VG1    NaN   \n...     ...      ...  ...              ...                    ...    ...   \n5687   5669  CC53430   27         Platinum                    VG2    NaN   \n5688   5670  CC31823   33         Platinum                    VG2    NaN   \n5689   5671  CC15335   28         Platinum                    VG2    NaN   \n5690   5672  CC81556   26         Platinum                    VG2    NaN   \n5691   5673  CC38634   21         Platinum                    VG2    NaN   \n\n     Card_Number Card_Family  Credit_Limit Cust_ID  \n0           None        None           NaN    None  \n1           None        None           NaN    None  \n2           None        None           NaN    None  \n3           None        None           NaN    None  \n4           None        None           NaN    None  \n...          ...         ...           ...     ...  \n5687        None        None           NaN    None  \n5688        None        None           NaN    None  \n5689        None        None           NaN    None  \n5690        None        None           NaN    None  \n5691        None        None           NaN    None  \n\n[5692 rows x 10 columns]",
      "text/html": "<div>\n<style scoped>\n    .dataframe tbody tr th:only-of-type {\n        vertical-align: middle;\n    }\n\n    .dataframe tbody tr th {\n        vertical-align: top;\n    }\n\n    .dataframe thead th {\n        text-align: right;\n    }\n</style>\n<table border=\"1\" class=\"dataframe\">\n  <thead>\n    <tr style=\"text-align: right;\">\n      <th></th>\n      <th>index</th>\n      <th>Cust_ID</th>\n      <th>Age</th>\n      <th>Customer_Segment</th>\n      <th>Customer_Vintage_Group</th>\n      <th>index</th>\n      <th>Card_Number</th>\n      <th>Card_Family</th>\n      <th>Credit_Limit</th>\n      <th>Cust_ID</th>\n    </tr>\n  </thead>\n  <tbody>\n    <tr>\n      <th>0</th>\n      <td>0</td>\n      <td>CC25034</td>\n      <td>35</td>\n      <td>Diamond</td>\n      <td>VG1</td>\n      <td>NaN</td>\n      <td>None</td>\n      <td>None</td>\n      <td>NaN</td>\n      <td>None</td>\n    </tr>\n    <tr>\n      <th>1</th>\n      <td>1</td>\n      <td>CC59625</td>\n      <td>22</td>\n      <td>Diamond</td>\n      <td>VG1</td>\n      <td>NaN</td>\n      <td>None</td>\n      <td>None</td>\n      <td>NaN</td>\n      <td>None</td>\n    </tr>\n    <tr>\n      <th>2</th>\n      <td>2</td>\n      <td>CC69314</td>\n      <td>33</td>\n      <td>Diamond</td>\n      <td>VG1</td>\n      <td>NaN</td>\n      <td>None</td>\n      <td>None</td>\n      <td>NaN</td>\n      <td>None</td>\n    </tr>\n    <tr>\n      <th>3</th>\n      <td>3</td>\n      <td>CC67036</td>\n      <td>46</td>\n      <td>Diamond</td>\n      <td>VG1</td>\n      <td>NaN</td>\n      <td>None</td>\n      <td>None</td>\n      <td>NaN</td>\n      <td>None</td>\n    </tr>\n    <tr>\n      <th>4</th>\n      <td>4</td>\n      <td>CC25597</td>\n      <td>44</td>\n      <td>Diamond</td>\n      <td>VG1</td>\n      <td>NaN</td>\n      <td>None</td>\n      <td>None</td>\n      <td>NaN</td>\n      <td>None</td>\n    </tr>\n    <tr>\n      <th>...</th>\n      <td>...</td>\n      <td>...</td>\n      <td>...</td>\n      <td>...</td>\n      <td>...</td>\n      <td>...</td>\n      <td>...</td>\n      <td>...</td>\n      <td>...</td>\n      <td>...</td>\n    </tr>\n    <tr>\n      <th>5687</th>\n      <td>5669</td>\n      <td>CC53430</td>\n      <td>27</td>\n      <td>Platinum</td>\n      <td>VG2</td>\n      <td>NaN</td>\n      <td>None</td>\n      <td>None</td>\n      <td>NaN</td>\n      <td>None</td>\n    </tr>\n    <tr>\n      <th>5688</th>\n      <td>5670</td>\n      <td>CC31823</td>\n      <td>33</td>\n      <td>Platinum</td>\n      <td>VG2</td>\n      <td>NaN</td>\n      <td>None</td>\n      <td>None</td>\n      <td>NaN</td>\n      <td>None</td>\n    </tr>\n    <tr>\n      <th>5689</th>\n      <td>5671</td>\n      <td>CC15335</td>\n      <td>28</td>\n      <td>Platinum</td>\n      <td>VG2</td>\n      <td>NaN</td>\n      <td>None</td>\n      <td>None</td>\n      <td>NaN</td>\n      <td>None</td>\n    </tr>\n    <tr>\n      <th>5690</th>\n      <td>5672</td>\n      <td>CC81556</td>\n      <td>26</td>\n      <td>Platinum</td>\n      <td>VG2</td>\n      <td>NaN</td>\n      <td>None</td>\n      <td>None</td>\n      <td>NaN</td>\n      <td>None</td>\n    </tr>\n    <tr>\n      <th>5691</th>\n      <td>5673</td>\n      <td>CC38634</td>\n      <td>21</td>\n      <td>Platinum</td>\n      <td>VG2</td>\n      <td>NaN</td>\n      <td>None</td>\n      <td>None</td>\n      <td>NaN</td>\n      <td>None</td>\n    </tr>\n  </tbody>\n</table>\n<p>5692 rows × 10 columns</p>\n</div>"
     },
     "metadata": {},
     "output_type": "display_data"
    },
    {
     "data": {
      "text/plain": "      index  Cust_ID  Age Customer_Segment Customer_Vintage_Group index:1  \\\n0         0  CC25034   35          Diamond                    VG1    None   \n1         1  CC59625   22          Diamond                    VG1    None   \n2         2  CC69314   33          Diamond                    VG1    None   \n3         3  CC67036   46          Diamond                    VG1    None   \n4         4  CC25597   44          Diamond                    VG1    None   \n...     ...      ...  ...              ...                    ...     ...   \n5187   5669  CC53430   27         Platinum                    VG2    None   \n5188   5670  CC31823   33         Platinum                    VG2    None   \n5189   5671  CC15335   28         Platinum                    VG2    None   \n5190   5672  CC81556   26         Platinum                    VG2    None   \n5191   5673  CC38634   21         Platinum                    VG2    None   \n\n     Card_Number Card_Family Credit_Limit Cust_ID:1  \n0           None        None         None      None  \n1           None        None         None      None  \n2           None        None         None      None  \n3           None        None         None      None  \n4           None        None         None      None  \n...          ...         ...          ...       ...  \n5187        None        None         None      None  \n5188        None        None         None      None  \n5189        None        None         None      None  \n5190        None        None         None      None  \n5191        None        None         None      None  \n\n[5192 rows x 10 columns]",
      "text/html": "<div>\n<style scoped>\n    .dataframe tbody tr th:only-of-type {\n        vertical-align: middle;\n    }\n\n    .dataframe tbody tr th {\n        vertical-align: top;\n    }\n\n    .dataframe thead th {\n        text-align: right;\n    }\n</style>\n<table border=\"1\" class=\"dataframe\">\n  <thead>\n    <tr style=\"text-align: right;\">\n      <th></th>\n      <th>index</th>\n      <th>Cust_ID</th>\n      <th>Age</th>\n      <th>Customer_Segment</th>\n      <th>Customer_Vintage_Group</th>\n      <th>index:1</th>\n      <th>Card_Number</th>\n      <th>Card_Family</th>\n      <th>Credit_Limit</th>\n      <th>Cust_ID:1</th>\n    </tr>\n  </thead>\n  <tbody>\n    <tr>\n      <th>0</th>\n      <td>0</td>\n      <td>CC25034</td>\n      <td>35</td>\n      <td>Diamond</td>\n      <td>VG1</td>\n      <td>None</td>\n      <td>None</td>\n      <td>None</td>\n      <td>None</td>\n      <td>None</td>\n    </tr>\n    <tr>\n      <th>1</th>\n      <td>1</td>\n      <td>CC59625</td>\n      <td>22</td>\n      <td>Diamond</td>\n      <td>VG1</td>\n      <td>None</td>\n      <td>None</td>\n      <td>None</td>\n      <td>None</td>\n      <td>None</td>\n    </tr>\n    <tr>\n      <th>2</th>\n      <td>2</td>\n      <td>CC69314</td>\n      <td>33</td>\n      <td>Diamond</td>\n      <td>VG1</td>\n      <td>None</td>\n      <td>None</td>\n      <td>None</td>\n      <td>None</td>\n      <td>None</td>\n    </tr>\n    <tr>\n      <th>3</th>\n      <td>3</td>\n      <td>CC67036</td>\n      <td>46</td>\n      <td>Diamond</td>\n      <td>VG1</td>\n      <td>None</td>\n      <td>None</td>\n      <td>None</td>\n      <td>None</td>\n      <td>None</td>\n    </tr>\n    <tr>\n      <th>4</th>\n      <td>4</td>\n      <td>CC25597</td>\n      <td>44</td>\n      <td>Diamond</td>\n      <td>VG1</td>\n      <td>None</td>\n      <td>None</td>\n      <td>None</td>\n      <td>None</td>\n      <td>None</td>\n    </tr>\n    <tr>\n      <th>...</th>\n      <td>...</td>\n      <td>...</td>\n      <td>...</td>\n      <td>...</td>\n      <td>...</td>\n      <td>...</td>\n      <td>...</td>\n      <td>...</td>\n      <td>...</td>\n      <td>...</td>\n    </tr>\n    <tr>\n      <th>5187</th>\n      <td>5669</td>\n      <td>CC53430</td>\n      <td>27</td>\n      <td>Platinum</td>\n      <td>VG2</td>\n      <td>None</td>\n      <td>None</td>\n      <td>None</td>\n      <td>None</td>\n      <td>None</td>\n    </tr>\n    <tr>\n      <th>5188</th>\n      <td>5670</td>\n      <td>CC31823</td>\n      <td>33</td>\n      <td>Platinum</td>\n      <td>VG2</td>\n      <td>None</td>\n      <td>None</td>\n      <td>None</td>\n      <td>None</td>\n      <td>None</td>\n    </tr>\n    <tr>\n      <th>5189</th>\n      <td>5671</td>\n      <td>CC15335</td>\n      <td>28</td>\n      <td>Platinum</td>\n      <td>VG2</td>\n      <td>None</td>\n      <td>None</td>\n      <td>None</td>\n      <td>None</td>\n      <td>None</td>\n    </tr>\n    <tr>\n      <th>5190</th>\n      <td>5672</td>\n      <td>CC81556</td>\n      <td>26</td>\n      <td>Platinum</td>\n      <td>VG2</td>\n      <td>None</td>\n      <td>None</td>\n      <td>None</td>\n      <td>None</td>\n      <td>None</td>\n    </tr>\n    <tr>\n      <th>5191</th>\n      <td>5673</td>\n      <td>CC38634</td>\n      <td>21</td>\n      <td>Platinum</td>\n      <td>VG2</td>\n      <td>None</td>\n      <td>None</td>\n      <td>None</td>\n      <td>None</td>\n      <td>None</td>\n    </tr>\n  </tbody>\n</table>\n<p>5192 rows × 10 columns</p>\n</div>"
     },
     "metadata": {},
     "output_type": "display_data"
    }
   ],
   "source": [
    "cnx = sqlite3.connect('data/credit_card_data/credit_card_data.sqlite')\n",
    "cur = cnx.cursor()\n",
    "\n",
    "# Request: Make sure we don't have any orphaned data between customers and credit cards\n",
    "\n",
    "# OUTER JOIN is not supported by sqlite\n",
    "\n",
    "# customers_cards = pd.read_sql(\n",
    "#     '''SELECT *\n",
    "#        FROM customers \n",
    "#          FULL OUTER JOIN cards ON customers.Customer_ID = cards.Customer_ID''',\n",
    "#     con=cnx)\n",
    "\n",
    "# Equivalent supported query\n",
    "\n",
    "customers_cards = pd.read_sql(\n",
    "    '''SELECT customers.*, cards.*\n",
    "       FROM customers\n",
    "         LEFT JOIN cards ON customers.Cust_ID = cards.Cust_ID\n",
    "       UNION ALL\n",
    "       SELECT customers.*, cards.* \n",
    "       FROM cards\n",
    "         LEFT JOIN customers ON customers.Cust_ID = cards.Cust_ID\n",
    "       WHERE customers.Cust_ID IS NULL''',\n",
    "    con=cnx)\n",
    "display(customers_cards)\n",
    "\n",
    "\n",
    "# Possible next steps: Display only rows where data is missing\n",
    "\n",
    "rows_missing_data = pd.read_sql(\n",
    "    '''SELECT * FROM (\n",
    "         SELECT customers.*, cards.*\n",
    "         FROM customers\n",
    "           LEFT JOIN cards ON customers.Cust_ID = cards.Cust_ID\n",
    "         UNION ALL\n",
    "         SELECT customers.*, cards.* \n",
    "         FROM cards\n",
    "           LEFT JOIN customers ON customers.Cust_ID = cards.Cust_ID\n",
    "         WHERE customers.Cust_ID IS NULL) as joined_table\n",
    "       WHERE Cust_ID is NULL OR Card_Number is NULL''',\n",
    "    con=cnx)\n",
    "display(rows_missing_data)\n",
    "\n",
    "# Note: If you only want rows with missing data from one table, a simple left join will suffice. \n",
    "# For example to show only customers with no card data\n",
    "\n",
    "cur.close()  \n",
    "cnx.close()"
   ]
  },
  {
   "cell_type": "markdown",
   "metadata": {},
   "source": [
    "#### Inner joins\n",
    "Show only rows with matches from both tables\n",
    "\n",
    "Inner join can be replaced with a left join with where clauses to filter out rows without matches."
   ]
  },
  {
   "cell_type": "code",
   "execution_count": 8,
   "metadata": {
    "pycharm": {
     "name": "#%%\n"
    }
   },
   "outputs": [
    {
     "data": {
      "text/plain": "     index Transaction_ID Transaction_Date       Credit_Card_ID  \\\n0      102   CTID50558449         6-May-16  4246-1369-3659-8804   \n1      219   CTID55936882        29-Nov-16  1336-9200-1264-2551   \n2      336   CTID63762180         5-Dec-16  8528-6154-7390-5081   \n3      494   CTID76723439        15-Sep-16  7908-2695-7391-7499   \n4      560   CTID21246201        29-Feb-16  2524-4184-5908-6750   \n..     ...            ...              ...                  ...   \n104   9841   CTID57993591         2-Apr-16  6697-9358-9213-4896   \n105   9881   CTID91108283        17-Jul-16  9207-1270-6690-4905   \n106   9933   CTID30494187        31-Dec-16  9018-5320-5729-5393   \n107   9973   CTID51301522        28-Jan-16  3620-5235-2101-3391   \n108   9993   CTID49517337        30-Sep-16  9604-6821-2861-8084   \n\n     Transaction_Value Transaction_Segment  \n0                 6984               SEG23  \n1                34367               SEG21  \n2                44550               SEG15  \n3                48275               SEG16  \n4                35751               SEG25  \n..                 ...                 ...  \n104              31486               SEG24  \n105              36706               SEG11  \n106              14586               SEG20  \n107              22354               SEG23  \n108              35688               SEG24  \n\n[109 rows x 6 columns]",
      "text/html": "<div>\n<style scoped>\n    .dataframe tbody tr th:only-of-type {\n        vertical-align: middle;\n    }\n\n    .dataframe tbody tr th {\n        vertical-align: top;\n    }\n\n    .dataframe thead th {\n        text-align: right;\n    }\n</style>\n<table border=\"1\" class=\"dataframe\">\n  <thead>\n    <tr style=\"text-align: right;\">\n      <th></th>\n      <th>index</th>\n      <th>Transaction_ID</th>\n      <th>Transaction_Date</th>\n      <th>Credit_Card_ID</th>\n      <th>Transaction_Value</th>\n      <th>Transaction_Segment</th>\n    </tr>\n  </thead>\n  <tbody>\n    <tr>\n      <th>0</th>\n      <td>102</td>\n      <td>CTID50558449</td>\n      <td>6-May-16</td>\n      <td>4246-1369-3659-8804</td>\n      <td>6984</td>\n      <td>SEG23</td>\n    </tr>\n    <tr>\n      <th>1</th>\n      <td>219</td>\n      <td>CTID55936882</td>\n      <td>29-Nov-16</td>\n      <td>1336-9200-1264-2551</td>\n      <td>34367</td>\n      <td>SEG21</td>\n    </tr>\n    <tr>\n      <th>2</th>\n      <td>336</td>\n      <td>CTID63762180</td>\n      <td>5-Dec-16</td>\n      <td>8528-6154-7390-5081</td>\n      <td>44550</td>\n      <td>SEG15</td>\n    </tr>\n    <tr>\n      <th>3</th>\n      <td>494</td>\n      <td>CTID76723439</td>\n      <td>15-Sep-16</td>\n      <td>7908-2695-7391-7499</td>\n      <td>48275</td>\n      <td>SEG16</td>\n    </tr>\n    <tr>\n      <th>4</th>\n      <td>560</td>\n      <td>CTID21246201</td>\n      <td>29-Feb-16</td>\n      <td>2524-4184-5908-6750</td>\n      <td>35751</td>\n      <td>SEG25</td>\n    </tr>\n    <tr>\n      <th>...</th>\n      <td>...</td>\n      <td>...</td>\n      <td>...</td>\n      <td>...</td>\n      <td>...</td>\n      <td>...</td>\n    </tr>\n    <tr>\n      <th>104</th>\n      <td>9841</td>\n      <td>CTID57993591</td>\n      <td>2-Apr-16</td>\n      <td>6697-9358-9213-4896</td>\n      <td>31486</td>\n      <td>SEG24</td>\n    </tr>\n    <tr>\n      <th>105</th>\n      <td>9881</td>\n      <td>CTID91108283</td>\n      <td>17-Jul-16</td>\n      <td>9207-1270-6690-4905</td>\n      <td>36706</td>\n      <td>SEG11</td>\n    </tr>\n    <tr>\n      <th>106</th>\n      <td>9933</td>\n      <td>CTID30494187</td>\n      <td>31-Dec-16</td>\n      <td>9018-5320-5729-5393</td>\n      <td>14586</td>\n      <td>SEG20</td>\n    </tr>\n    <tr>\n      <th>107</th>\n      <td>9973</td>\n      <td>CTID51301522</td>\n      <td>28-Jan-16</td>\n      <td>3620-5235-2101-3391</td>\n      <td>22354</td>\n      <td>SEG23</td>\n    </tr>\n    <tr>\n      <th>108</th>\n      <td>9993</td>\n      <td>CTID49517337</td>\n      <td>30-Sep-16</td>\n      <td>9604-6821-2861-8084</td>\n      <td>35688</td>\n      <td>SEG24</td>\n    </tr>\n  </tbody>\n</table>\n<p>109 rows × 6 columns</p>\n</div>"
     },
     "metadata": {},
     "output_type": "display_data"
    },
    {
     "data": {
      "text/plain": "    index  Cust_ID  Age Customer_Segment Customer_Vintage_Group\n0     143  CC35402   26          Diamond                    VG1\n1     173  CC42497   23          Diamond                    VG1\n2     209  CC41731   35          Diamond                    VG1\n3     221  CC93075   32          Diamond                    VG1\n4     235  CC64111   41          Diamond                    VG1\n..    ...      ...  ...              ...                    ...\n92   5476  CC87034   36         Platinum                    VG2\n93   5534  CC87270   28         Platinum                    VG2\n94   5538  CC81000   25         Platinum                    VG2\n95   5548  CC66351   22         Platinum                    VG2\n96   5661  CC42937   30         Platinum                    VG2\n\n[97 rows x 5 columns]",
      "text/html": "<div>\n<style scoped>\n    .dataframe tbody tr th:only-of-type {\n        vertical-align: middle;\n    }\n\n    .dataframe tbody tr th {\n        vertical-align: top;\n    }\n\n    .dataframe thead th {\n        text-align: right;\n    }\n</style>\n<table border=\"1\" class=\"dataframe\">\n  <thead>\n    <tr style=\"text-align: right;\">\n      <th></th>\n      <th>index</th>\n      <th>Cust_ID</th>\n      <th>Age</th>\n      <th>Customer_Segment</th>\n      <th>Customer_Vintage_Group</th>\n    </tr>\n  </thead>\n  <tbody>\n    <tr>\n      <th>0</th>\n      <td>143</td>\n      <td>CC35402</td>\n      <td>26</td>\n      <td>Diamond</td>\n      <td>VG1</td>\n    </tr>\n    <tr>\n      <th>1</th>\n      <td>173</td>\n      <td>CC42497</td>\n      <td>23</td>\n      <td>Diamond</td>\n      <td>VG1</td>\n    </tr>\n    <tr>\n      <th>2</th>\n      <td>209</td>\n      <td>CC41731</td>\n      <td>35</td>\n      <td>Diamond</td>\n      <td>VG1</td>\n    </tr>\n    <tr>\n      <th>3</th>\n      <td>221</td>\n      <td>CC93075</td>\n      <td>32</td>\n      <td>Diamond</td>\n      <td>VG1</td>\n    </tr>\n    <tr>\n      <th>4</th>\n      <td>235</td>\n      <td>CC64111</td>\n      <td>41</td>\n      <td>Diamond</td>\n      <td>VG1</td>\n    </tr>\n    <tr>\n      <th>...</th>\n      <td>...</td>\n      <td>...</td>\n      <td>...</td>\n      <td>...</td>\n      <td>...</td>\n    </tr>\n    <tr>\n      <th>92</th>\n      <td>5476</td>\n      <td>CC87034</td>\n      <td>36</td>\n      <td>Platinum</td>\n      <td>VG2</td>\n    </tr>\n    <tr>\n      <th>93</th>\n      <td>5534</td>\n      <td>CC87270</td>\n      <td>28</td>\n      <td>Platinum</td>\n      <td>VG2</td>\n    </tr>\n    <tr>\n      <th>94</th>\n      <td>5538</td>\n      <td>CC81000</td>\n      <td>25</td>\n      <td>Platinum</td>\n      <td>VG2</td>\n    </tr>\n    <tr>\n      <th>95</th>\n      <td>5548</td>\n      <td>CC66351</td>\n      <td>22</td>\n      <td>Platinum</td>\n      <td>VG2</td>\n    </tr>\n    <tr>\n      <th>96</th>\n      <td>5661</td>\n      <td>CC42937</td>\n      <td>30</td>\n      <td>Platinum</td>\n      <td>VG2</td>\n    </tr>\n  </tbody>\n</table>\n<p>97 rows × 5 columns</p>\n</div>"
     },
     "metadata": {},
     "output_type": "display_data"
    }
   ],
   "source": [
    "cnx = sqlite3.connect('data/credit_card_data/credit_card_data.sqlite')\n",
    "cur = cnx.cursor()\n",
    "\n",
    "# Request: Show me all fraudulent transactions\n",
    "\n",
    "fraudulent_transactions = pd.read_sql(\n",
    "    '''SELECT transactions.* \n",
    "       FROM transactions \n",
    "         INNER JOIN frauds ON transactions.Transaction_ID = frauds.Transaction_ID''',\n",
    "    con=cnx)\n",
    "display(fraudulent_transactions)\n",
    "\n",
    "# Possible next steps: Show all the customers with fraudulent transactions\n",
    "\n",
    "defrauded_customers = pd.read_sql(\n",
    "    '''SELECT DISTINCT customers.*\n",
    "       FROM transactions\n",
    "         INNER JOIN frauds ON transactions.Transaction_ID = frauds.Transaction_ID\n",
    "         INNER JOIN cards ON cards.Card_Number = transactions.Credit_Card_ID\n",
    "         INNER JOIN customers ON customers.Cust_ID = cards.Cust_ID''',\n",
    "    con=cnx)\n",
    "display(defrauded_customers)  \n",
    "\n",
    "   \n",
    "cur.close()  \n",
    "cnx.close()"
   ]
  },
  {
   "cell_type": "code",
   "execution_count": 9,
   "metadata": {},
   "outputs": [
    {
     "ename": "OperationalError",
     "evalue": "unable to open database file",
     "output_type": "error",
     "traceback": [
      "\u001B[0;31m---------------------------------------------------------------------------\u001B[0m",
      "\u001B[0;31mOperationalError\u001B[0m                          Traceback (most recent call last)",
      "\u001B[0;32m<ipython-input-9-32d7f6985606>\u001B[0m in \u001B[0;36m<module>\u001B[0;34m\u001B[0m\n\u001B[0;32m----> 1\u001B[0;31m \u001B[0mcnx\u001B[0m \u001B[0;34m=\u001B[0m \u001B[0msqlite3\u001B[0m\u001B[0;34m.\u001B[0m\u001B[0mconnect\u001B[0m\u001B[0;34m(\u001B[0m\u001B[0;34m'credit_card_data/credit_card_data.sqlite'\u001B[0m\u001B[0;34m)\u001B[0m\u001B[0;34m\u001B[0m\u001B[0;34m\u001B[0m\u001B[0m\n\u001B[0m\u001B[1;32m      2\u001B[0m \u001B[0mcur\u001B[0m \u001B[0;34m=\u001B[0m \u001B[0mcnx\u001B[0m\u001B[0;34m.\u001B[0m\u001B[0mcursor\u001B[0m\u001B[0;34m(\u001B[0m\u001B[0;34m)\u001B[0m\u001B[0;34m\u001B[0m\u001B[0;34m\u001B[0m\u001B[0m\n\u001B[1;32m      3\u001B[0m \u001B[0;34m\u001B[0m\u001B[0m\n\u001B[1;32m      4\u001B[0m \u001B[0;31m# Request: Show me all fraudulent transactions\u001B[0m\u001B[0;34m\u001B[0m\u001B[0;34m\u001B[0m\u001B[0;34m\u001B[0m\u001B[0m\n\u001B[1;32m      5\u001B[0m \u001B[0;34m\u001B[0m\u001B[0m\n",
      "\u001B[0;31mOperationalError\u001B[0m: unable to open database file"
     ]
    }
   ],
   "source": [
    "cnx = sqlite3.connect('data/credit_card_data/credit_card_data.sqlite')\n",
    "cur = cnx.cursor()\n",
    "\n",
    "# Request: Show me all fraudulent transactions\n",
    "\n",
    "fraudulent_transactions = pd.read_sql(\n",
    "    '''SELECT transactions.* \n",
    "       FROM transactions \n",
    "         INNER JOIN frauds ON transactions.Transaction_ID = frauds.Transaction_ID''',\n",
    "    con=cnx)\n",
    "display(fraudulent_transactions)\n",
    "\n",
    "# Possible next steps: Show all the customers with fraudulent transactions\n",
    "\n",
    "defrauded_customers = pd.read_sql(\n",
    "    '''SELECT DISTINCT customers.*\n",
    "       FROM transactions\n",
    "         INNER JOIN frauds ON transactions.Transaction_ID = frauds.Transaction_ID\n",
    "         INNER JOIN cards ON cards.Card_Number = transactions.Credit_Card_ID\n",
    "         INNER JOIN customers ON customers.Cust_ID = cards.Cust_ID''',\n",
    "    con=cnx)\n",
    "display(defrauded_customers)  \n",
    "\n",
    "   \n",
    "cur.close()  \n",
    "cnx.close()"
   ]
  },
  {
   "cell_type": "markdown",
   "metadata": {},
   "source": [
    "## Join Types\n",
    "\n",
    "Outer joins return every row from at least one table."
   ]
  },
  {
   "cell_type": "markdown",
   "metadata": {},
   "source": [
    "#### Left outer joins \n",
    "All rows from the left table with any matches from the right table. If no matches, null is returned for each column of the right table.\n",
    "\n",
    "This is the join type you will use 99% of the time. It is great for one-to-one and one-to-many relationships."
   ]
  },
  {
   "cell_type": "code",
   "execution_count": null,
   "metadata": {},
   "outputs": [],
   "source": [
    "cnx = sqlite3.connect('data/credit_card_data/credit_card_data.sqlite')\n",
    "cur = cnx.cursor()\n",
    "\n",
    "# Request: Show me all of the data on customers and their credit cards\n",
    "\n",
    "cur.execute('''SELECT * \n",
    "               FROM customers \n",
    "                 LEFT JOIN cards ON customers.CUST_ID = cards.CUST_ID''')\n",
    "customer_cards = pd.DataFrame(cur.fetchall())\n",
    "customer_cards.columns = [x[0] for x in cur.description]\n",
    "display(customer_cards)\n",
    "\n",
    "# Possible next steps: Group by customer and count number of cards\n",
    "\n",
    "\n",
    "# ----- RIGHT JOIN (not supported by sqlite) -----\n",
    "\n",
    "# Request: I want a list of transactions preceded by a flag if they are fraudulent\n",
    "# Possible next steps: Group by credit card number and get the sum of fraudulent transaction amounts\n",
    "\n",
    "# transactions_flagged = pd.read_sql('''SELECT frauds.Fraud_Flag, transactions.*\n",
    "#                    FROM frauds \n",
    "#                      RIGHT JOIN transactions ON frauds.Transaction_ID = cards.Transaction_ID''',\n",
    "#                con=cnx)\n",
    "transactions_flagged = pd.read_sql(\n",
    "    '''SELECT frauds.Fraud_Flag, transactions.*\n",
    "       FROM transactions \n",
    "         LEFT JOIN frauds ON frauds.Transaction_ID = transactions.Transaction_ID''',\n",
    "    con=cnx, index_col='index')\n",
    "display(transactions_flagged)\n",
    "\n",
    "   \n",
    "cur.close()  \n",
    "cnx.close()"
   ]
  },
  {
   "cell_type": "markdown",
   "metadata": {},
   "source": [
    "\n",
    "#### Right outer joins\n",
    "All rows from the right table with any matches from the left table. If no matches, null is returned for each column of the left table.\n",
    "\n",
    "These queries can always be written as the opposite left join. You might want to use a right join to makes your query easier to read and understand."
   ]
  },
  {
   "cell_type": "code",
   "execution_count": null,
   "metadata": {},
   "outputs": [],
   "source": [
    "cnx = sqlite3.connect('data/credit_card_data/credit_card_data.sqlite')\n",
    "cur = cnx.cursor()\n",
    "\n",
    "# Request: I want a list of transactions preceded by a flag if they are fraudulent\n",
    "\n",
    "# RIGHT JOIN below is not supported by sqlite\n",
    "\n",
    "# transactions_flagged = pd.read_sql('''SELECT frauds.Fraud_Flag, transactions.*\n",
    "#                    FROM frauds \n",
    "#                      RIGHT JOIN transactions ON frauds.Transaction_ID = cards.Transaction_ID''',\n",
    "#                con=cnx)\n",
    "\n",
    "# Equivalent supported query\n",
    "\n",
    "transactions_flagged = pd.read_sql(\n",
    "    '''SELECT frauds.Fraud_Flag, transactions.*\n",
    "       FROM transactions \n",
    "         LEFT JOIN frauds ON frauds.Transaction_ID = transactions.Transaction_ID''',\n",
    "    con=cnx, index_col='index')\n",
    "display(transactions_flagged)\n",
    "\n",
    "\n",
    "# Possible next steps: Get the total of fraudulent transaction amounts for every credit card\n",
    "\n",
    "fraud_amounts_by_card = pd.read_sql(\n",
    "    '''SELECT SUM(\n",
    "         CASE WHEN frauds.Fraud_Flag = 1\n",
    "           THEN transactions.Transaction_Value \n",
    "           ELSE 0 END\n",
    "        ) AS Fraud_Total, transactions.Credit_Card_ID\n",
    "       FROM transactions \n",
    "         LEFT JOIN frauds ON frauds.Transaction_ID = transactions.Transaction_ID\n",
    "       GROUP BY transactions.Credit_Card_ID''',\n",
    "   con=cnx)\n",
    "display(fraud_amounts_by_card)\n",
    "\n",
    "   \n",
    "cur.close()  \n",
    "cnx.close()"
   ]
  },
  {
   "cell_type": "markdown",
   "metadata": {},
   "source": [
    "#### Full outer joins\n",
    "All rows from the left table and the right table. If no matches, null is returned for each column of the left or right table as needed.\n",
    "\n",
    "This is a great query to see if you have missing data so you can address the issue."
   ]
  },
  {
   "cell_type": "code",
   "execution_count": null,
   "metadata": {},
   "outputs": [],
   "source": [
    "cnx = sqlite3.connect('data/credit_card_data/credit_card_data.sqlite')\n",
    "cur = cnx.cursor()\n",
    "\n",
    "# Request: Make sure we don't have any orphaned data between customers and credit cards\n",
    "\n",
    "# OUTER JOIN is not supported by sqlite\n",
    "\n",
    "# customers_cards = pd.read_sql(\n",
    "#     '''SELECT *\n",
    "#        FROM customers \n",
    "#          FULL OUTER JOIN cards ON customers.Customer_ID = cards.Customer_ID''',\n",
    "#     con=cnx)\n",
    "\n",
    "# Equivalent supported query\n",
    "\n",
    "customers_cards = pd.read_sql(\n",
    "    '''SELECT customers.*, cards.*\n",
    "       FROM customers\n",
    "         LEFT JOIN cards ON customers.Cust_ID = cards.Cust_ID\n",
    "       UNION ALL\n",
    "       SELECT customers.*, cards.* \n",
    "       FROM cards\n",
    "         LEFT JOIN customers ON customers.Cust_ID = cards.Cust_ID\n",
    "       WHERE customers.Cust_ID IS NULL''',\n",
    "    con=cnx)\n",
    "display(customers_cards)\n",
    "\n",
    "\n",
    "# Possible next steps: Display only rows where data is missing\n",
    "\n",
    "rows_missing_data = pd.read_sql(\n",
    "    '''SELECT * FROM (\n",
    "         SELECT customers.*, cards.*\n",
    "         FROM customers\n",
    "           LEFT JOIN cards ON customers.Cust_ID = cards.Cust_ID\n",
    "         UNION ALL\n",
    "         SELECT customers.*, cards.* \n",
    "         FROM cards\n",
    "           LEFT JOIN customers ON customers.Cust_ID = cards.Cust_ID\n",
    "         WHERE customers.Cust_ID IS NULL) as joined_table\n",
    "       WHERE Cust_ID is NULL OR Card_Number is NULL''',\n",
    "    con=cnx)\n",
    "display(rows_missing_data)\n",
    "\n",
    "# Note: If you only want rows with missing data from one table, a simple left join will suffice. \n",
    "# For example to show only customers with no card data\n",
    "\n",
    "cur.close()  \n",
    "cnx.close()"
   ]
  },
  {
   "cell_type": "markdown",
   "metadata": {},
   "source": [
    "#### Inner joins\n",
    "Show only rows with matches from both tables\n",
    "\n",
    "Inner join can be replaced with a left join with where clauses to filter out rows without matches."
   ]
  },
  {
   "cell_type": "code",
   "execution_count": null,
   "metadata": {
    "pycharm": {
     "name": "#%%\n"
    }
   },
   "outputs": [],
   "source": [
    "cnx = sqlite3.connect('data/credit_card_data/credit_card_data.sqlite')\n",
    "cur = cnx.cursor()\n",
    "\n",
    "# Request: Show me all fraudulent transactions\n",
    "\n",
    "fraudulent_transactions = pd.read_sql(\n",
    "    '''SELECT transactions.* \n",
    "       FROM transactions \n",
    "         INNER JOIN frauds ON transactions.Transaction_ID = frauds.Transaction_ID''',\n",
    "    con=cnx)\n",
    "display(fraudulent_transactions)\n",
    "\n",
    "# Possible next steps: Show all the customers with fraudulent transactions\n",
    "\n",
    "defrauded_customers = pd.read_sql(\n",
    "    '''SELECT DISTINCT customers.*\n",
    "       FROM transactions\n",
    "         INNER JOIN frauds ON transactions.Transaction_ID = frauds.Transaction_ID\n",
    "         INNER JOIN cards ON cards.Card_Number = transactions.Credit_Card_ID\n",
    "         INNER JOIN customers ON customers.Cust_ID = cards.Cust_ID''',\n",
    "    con=cnx)\n",
    "display(defrauded_customers)  \n",
    "\n",
    "   \n",
    "cur.close()  \n",
    "cnx.close()"
   ]
  }
 ],
 "metadata": {
  "kernelspec": {
   "name": "python3",
   "language": "python",
   "display_name": "Python 3"
  },
  "language_info": {
   "codemirror_mode": {
    "name": "ipython",
    "version": 3
   },
   "file_extension": ".py",
   "mimetype": "text/x-python",
   "name": "python",
   "nbconvert_exporter": "python",
   "pygments_lexer": "ipython3",
   "version": "3.8.3"
  }
 },
 "nbformat": 4,
 "nbformat_minor": 4
}